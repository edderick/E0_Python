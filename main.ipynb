{
 "metadata": {
  "name": "main"
 },
 "nbformat": 3,
 "nbformat_minor": 0,
 "worksheets": [
  {
   "cells": [
    {
     "cell_type": "code",
     "collapsed": false,
     "input": [
      "import sys\n",
      "import argparse\n",
      "import comms\n",
      "import os\n",
      "import io\n",
      "\n",
      "parser = argparse.ArgumentParser(description=\"Create a socket connection\")\n",
      "parser.add_argument('addr', type=str, default=\"0.0.0.0\",  help=\"what domain name/ipaddress to connect to?\")\n",
      "parser.add_argument('-p', type=int, default=2000, help=\"port to connect to, or with -l option, port to listen on.\", dest=\"port\")\n",
      "parser.add_argument('-l', dest=\"listen\", action='store_true', help=\"Run as server, listen for connections.\")\n",
      "args = parser.parse_args()\n",
      "\n",
      "\n",
      "conn = comms.listen(args.port) if args.listen else comms.connect(args.addr, args.port)\n",
      "stream = conn.makefile(mode='rwb')\n",
      "conn = comms.Connection(stream)\n",
      "\n",
      "RAND = os.urandom(16)\n",
      "link_key = os.urandom(16)\n",
      "ID = 5 \n",
      "\n",
      "for clock in range(20):\n",
      " conn.send_neg(ID)\n",
      " conn.send_init(clock,RAND, link_key)\n",
      " conn.send_data(clock, 'foo')\n",
      "\n",
      " print conn.recv_neg()\n",
      " print conn.recv_init()\n",
      " print conn.recv_data()\n",
      "\n",
      "conn.stream.close()"
     ],
     "language": "python",
     "metadata": {},
     "outputs": []
    }
   ],
   "metadata": {}
  }
 ]
}