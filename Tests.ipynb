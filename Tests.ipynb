{
 "metadata": {
  "name": "Tests"
 },
 "nbformat": 3,
 "nbformat_minor": 0,
 "worksheets": [
  {
   "cells": [
    {
     "cell_type": "markdown",
     "metadata": {},
     "source": [
      "#Unit Tests\n",
      "\n",
      "* Test Components:\n",
      "    * LSFR\n",
      "    * XOR\n",
      "    * Adder\n",
      "    * T [Bijection]\n",
      "    * Delay\n",
      "    * Output\n",
      "    * Source\n",
      "    * Divider\n",
      "* Test XORing encryption/decryption.\n",
      "\n"
     ]
    },
    {
     "cell_type": "code",
     "collapsed": false,
     "input": [
      "import unittest\n",
      "from bitstring import *\n",
      "import Component\n",
      "\n",
      "class TestStreamXOR(unittest.TestCase):\n",
      "    \n",
      "    def setUp(self):\n",
      "        self.plainText = Bits('0b11001100')\n",
      "        self.cipherText =Bits('0b01010101')\n",
      "        self.keystream = Bits('0b10011001')\n",
      "        \n",
      "    def test_encrypt(self):\n",
      "        \"\"\"Test Encryption\"\"\"\n",
      "        e = self.plainText ^ self.keystream\n",
      "        self.assertEqual(e, self.cipherText)\n",
      "        \n",
      "    def test_decrypt(self):\n",
      "        \"\"\"Test Decryption\"\"\"\n",
      "        d = self.cipherText ^ self.keystream\n",
      "        self.assertEqual(d, self.plainText)\n",
      "\n",
      "\n",
      "XORSuite = unittest.TestLoader().loadTestsFromTestCase(TestStreamXOR)\n",
      "unittest.TextTestRunner(verbosity=2).run(XORSuite)"
     ],
     "language": "python",
     "metadata": {},
     "outputs": [
      {
       "output_type": "stream",
       "stream": "stderr",
       "text": [
        "test_decrypt (__main__.TestStreamXOR)\n",
        "Test Decryption ... "
       ]
      },
      {
       "output_type": "stream",
       "stream": "stderr",
       "text": [
        "ok\n",
        "test_encrypt (__main__.TestStreamXOR)\n",
        "Test Encryption ... "
       ]
      },
      {
       "output_type": "stream",
       "stream": "stderr",
       "text": [
        "ok\n",
        "\n",
        "----------------------------------------------------------------------\n",
        "Ran 2 tests in 0.001s\n",
        "\n",
        "OK\n"
       ]
      },
      {
       "output_type": "pyout",
       "prompt_number": 2,
       "text": [
        "<unittest.runner.TextTestResult run=2 errors=0 failures=0>"
       ]
      }
     ],
     "prompt_number": 2
    },
    {
     "cell_type": "code",
     "collapsed": false,
     "input": [],
     "language": "python",
     "metadata": {},
     "outputs": [],
     "prompt_number": 2
    },
    {
     "cell_type": "code",
     "collapsed": false,
     "input": [
      "reload(Component)\n",
      "\n",
      "class TestAdder(unittest.TestCase):\n",
      "    def setUp(self):\n",
      "        self.adder = Component.Adder(3,Component.Source(Bits('0b011')), Component.Source(Bits('0b111')),Component.Source(Bits('0b111')))\n",
      "    \n",
      "    def test_adder(self):\n",
      "        \"\"\"Test Adder(01, 11)\"\"\"\n",
      "        for i in range(2):\n",
      "            self.adder.step(i)\n",
      "        self.assertEqual(self.adder.outputs, [Bits('0b100'), Bits('0b100')])\n",
      "        #self.assertEqual(False, True)\n",
      "        \n",
      "TestAdderSuite = unittest.TestLoader().loadTestsFromTestCase(TestAdder)\n",
      "unittest.TextTestRunner(verbosity=2).run(TestAdderSuite)"
     ],
     "language": "python",
     "metadata": {},
     "outputs": [
      {
       "output_type": "stream",
       "stream": "stderr",
       "text": [
        "test_adder (__main__.TestAdder)\n",
        "Test Adder(01, 11) ... "
       ]
      },
      {
       "output_type": "stream",
       "stream": "stdout",
       "text": [
        "[Bits('0b011'), Bits('0b111'), Bits('0b111')]\n",
        "[Bits('0b011'), Bits('0b111'), Bits('0b111')]\n"
       ]
      },
      {
       "output_type": "stream",
       "stream": "stderr",
       "text": [
        "FAIL\n",
        "\n",
        "======================================================================\n",
        "FAIL: test_adder (__main__.TestAdder)\n",
        "Test Adder(01, 11)\n",
        "----------------------------------------------------------------------\n",
        "Traceback (most recent call last):\n",
        "  File \"<ipython-input-94-7dc92e0721b8>\", line 11, in test_adder\n",
        "    self.assertEqual(self.adder.outputs, [Bits('0b100'), Bits('0b100')])\n",
        "AssertionError: Lists differ: [Bits('0b001'), Bits('0b001')] != [Bits('0b100'), Bits('0b100')]\n",
        "\n",
        "First differing element 0:\n",
        "0b001\n",
        "0b100\n",
        "\n",
        "- [Bits('0b001'), Bits('0b001')]\n",
        "?            -              -\n",
        "\n",
        "+ [Bits('0b100'), Bits('0b100')]\n",
        "?          +              +\n",
        "\n",
        "\n",
        "----------------------------------------------------------------------\n",
        "Ran 1 test in 0.003s\n",
        "\n",
        "FAILED (failures=1)\n"
       ]
      },
      {
       "output_type": "pyout",
       "prompt_number": 94,
       "text": [
        "<unittest.runner.TextTestResult run=1 errors=0 failures=1>"
       ]
      }
     ],
     "prompt_number": 94
    },
    {
     "cell_type": "code",
     "collapsed": false,
     "input": [
      "reload(Component)\n",
      "\n",
      "class TestSource(unittest.TestCase):\n",
      "    def setUp(self):\n",
      "        self.source = Component.Source(Bits('0b010'))\n",
      "    def test_source(self):\n",
      "        \"\"\" Test Source\"\"\"\n",
      "        for i in range(2):\n",
      "            self.source.step(i)\n",
      "        self.assertEqual(self.source.outputs, [Bits('0b010'), Bits('0b010')])\n",
      "        \n",
      "TestSourceSuite = unittest.TestLoader().loadTestsFromTestCase(TestSource)\n",
      "unittest.TextTestRunner(verbosity=2).run(TestSourceSuite)"
     ],
     "language": "python",
     "metadata": {},
     "outputs": [
      {
       "output_type": "stream",
       "stream": "stderr",
       "text": [
        "test_source (__main__.TestSource)\n",
        "Test Source ... "
       ]
      },
      {
       "output_type": "stream",
       "stream": "stderr",
       "text": [
        "ok\n",
        "\n",
        "----------------------------------------------------------------------\n",
        "Ran 1 test in 0.001s\n",
        "\n",
        "OK\n"
       ]
      },
      {
       "output_type": "pyout",
       "prompt_number": 4,
       "text": [
        "<unittest.runner.TextTestResult run=1 errors=0 failures=0>"
       ]
      }
     ],
     "prompt_number": 4
    },
    {
     "cell_type": "code",
     "collapsed": false,
     "input": [
      "reload(Component)\n",
      "\n",
      "class TestOutput(unittest.TestCase):\n",
      "    def setUp(self):\n",
      "        self.output = Component.Output(Component.Source(Bits('0b111')))\n",
      "    \n",
      "    def test_output(self):\n",
      "        \"\"\"Test Output\"\"\"\n",
      "        for i in range(2):\n",
      "            self.output.step(i)\n",
      "        self.assertEqual(self.output.outputs, [Bits('0b111'), ('0b111')])\n",
      "        \n",
      "TestOutputSuite = unittest.TestLoader().loadTestsFromTestCase(TestOutput)\n",
      "unittest.TextTestRunner(verbosity=2).run(TestOutputSuite)"
     ],
     "language": "python",
     "metadata": {},
     "outputs": [
      {
       "output_type": "stream",
       "stream": "stderr",
       "text": [
        "test_output (__main__.TestOutput)\n",
        "Test Output ... "
       ]
      },
      {
       "output_type": "stream",
       "stream": "stderr",
       "text": [
        "ok\n",
        "\n",
        "----------------------------------------------------------------------\n",
        "Ran 1 test in 0.002s\n",
        "\n",
        "OK\n"
       ]
      },
      {
       "output_type": "pyout",
       "prompt_number": 5,
       "text": [
        "<unittest.runner.TextTestResult run=1 errors=0 failures=0>"
       ]
      }
     ],
     "prompt_number": 5
    },
    {
     "cell_type": "code",
     "collapsed": false,
     "input": [
      "reload(Component)\n",
      "\n",
      "class TestDelay(unittest.TestCase):\n",
      "    def setUp(self):\n",
      "        self.delay = Component.Delay(Bits('0b11'),Component.Source(Bits('0b110011')))\n",
      "    \n",
      "    def test_delay(self):\n",
      "        \"\"\"Test Delay\"\"\"\n",
      "        for i in range(2):\n",
      "            self.delay.step(i)\n",
      "        self.assertEqual(self.delay.outputs, [Bits('0b11'), Bits('0b110011')])\n",
      " \n",
      "TestDelaySuite = unittest.TestLoader().loadTestsFromTestCase(TestDelay)\n",
      "unittest.TextTestRunner(verbosity=2).run(TestDelaySuite)"
     ],
     "language": "python",
     "metadata": {},
     "outputs": [
      {
       "output_type": "stream",
       "stream": "stderr",
       "text": [
        "test_delay (__main__.TestDelay)\n",
        "Test Delay ... "
       ]
      },
      {
       "output_type": "stream",
       "stream": "stdout",
       "text": [
        "0\n",
        "1\n"
       ]
      },
      {
       "output_type": "stream",
       "stream": "stderr",
       "text": [
        "ok\n",
        "\n",
        "----------------------------------------------------------------------\n",
        "Ran 1 test in 0.001s\n",
        "\n",
        "OK\n"
       ]
      },
      {
       "output_type": "pyout",
       "prompt_number": 6,
       "text": [
        "<unittest.runner.TextTestResult run=1 errors=0 failures=0>"
       ]
      }
     ],
     "prompt_number": 6
    },
    {
     "cell_type": "code",
     "collapsed": false,
     "input": [
      "reload(Component)\n",
      "\n",
      "class TestXOR(unittest.TestCase):\n",
      "    def setUp(self):\n",
      "        self.xor = Component.ExclusiveOR(Component.Source(Bits('0b111')), Component.Source(Bits('0b010')))\n",
      "        \n",
      "    def test_xor(self):\n",
      "        \"\"\"Test XOR\"\"\"\n",
      "        for i in range(2):\n",
      "            self.xor.step(i)\n",
      "        self.assertEqual(self.xor.outputs, [Bits('0b101'), Bits('0b101')])\n",
      "\n",
      "TestXORSuite = unittest.TestLoader().loadTestsFromTestCase(TestXOR)\n",
      "unittest.TextTestRunner(verbosity=2).run(TestXORSuite)\n",
      "        "
     ],
     "language": "python",
     "metadata": {},
     "outputs": [
      {
       "output_type": "stream",
       "stream": "stderr",
       "text": [
        "test_xor (__main__.TestXOR)\n",
        "Test XOR ... "
       ]
      },
      {
       "output_type": "stream",
       "stream": "stderr",
       "text": [
        "ok\n",
        "\n",
        "----------------------------------------------------------------------\n",
        "Ran 1 test in 0.002s\n",
        "\n",
        "OK\n"
       ]
      },
      {
       "output_type": "pyout",
       "prompt_number": 7,
       "text": [
        "<unittest.runner.TextTestResult run=1 errors=0 failures=0>"
       ]
      }
     ],
     "prompt_number": 7
    },
    {
     "cell_type": "code",
     "collapsed": false,
     "input": [
      "reload(Component)\n",
      "\n",
      "class TestDivider(unittest.TestCase):\n",
      "    def setUp(self):\n",
      "        self.divider = Component.Divider(2,Component.Source(Bits('0b1101')))\n",
      "        \n",
      "    def test_divider(self):\n",
      "        \"\"\"Test Divider\"\"\"\n",
      "        for i in range(2):\n",
      "            self.divider.step(i)\n",
      "        self.assertEqual(self.divider.outputs, [Bits('0b10'), Bits('0b10')])\n",
      "                         \n",
      "TestDividerSuite = unittest.TestLoader().loadTestsFromTestCase(TestDivider)\n",
      "unittest.TextTestRunner(verbosity=2).run(TestDividerSuite)"
     ],
     "language": "python",
     "metadata": {},
     "outputs": [
      {
       "output_type": "stream",
       "stream": "stderr",
       "text": [
        "test_divider (__main__.TestDivider)\n",
        "Test Divider ... "
       ]
      },
      {
       "output_type": "stream",
       "stream": "stderr",
       "text": [
        "ok\n",
        "\n",
        "----------------------------------------------------------------------\n",
        "Ran 1 test in 0.001s\n",
        "\n",
        "OK\n"
       ]
      },
      {
       "output_type": "pyout",
       "prompt_number": 76,
       "text": [
        "<unittest.runner.TextTestResult run=1 errors=0 failures=0>"
       ]
      }
     ],
     "prompt_number": 76
    },
    {
     "cell_type": "code",
     "collapsed": false,
     "input": [
      "reload(Component)\n",
      "\n",
      "class TestBijection(unittest.TestCase):\n",
      "    def setUp(self):\n",
      "        self.bijection = Component.Bijection(Component.Bijection.T2_values, Component.Source(Bits('0b11')))\n",
      "    \n",
      "    def test_bijection(self):\n",
      "        \"\"\"Test Bijection\"\"\"\n",
      "        for i in range(2):\n",
      "            self.bijection.step(i)\n",
      "            \n",
      "        self.assertEqual(self.bijection.outputs, [Bits('0b10'), Bits('0b10')])\n",
      "                         \n",
      "                         \n",
      "TestBijectionSuite = unittest.TestLoader().loadTestsFromTestCase(TestBijection)\n",
      "unittest.TextTestRunner(verbosity=2).run(TestBijectionSuite)"
     ],
     "language": "python",
     "metadata": {},
     "outputs": [
      {
       "output_type": "stream",
       "stream": "stderr",
       "text": [
        "test_bijection (__main__.TestBijection)\n",
        "Test Bijection ... "
       ]
      },
      {
       "output_type": "stream",
       "stream": "stderr",
       "text": [
        "ok\n",
        "\n",
        "----------------------------------------------------------------------\n",
        "Ran 1 test in 0.001s\n",
        "\n",
        "OK\n"
       ]
      },
      {
       "output_type": "pyout",
       "prompt_number": 9,
       "text": [
        "<unittest.runner.TextTestResult run=1 errors=0 failures=0>"
       ]
      }
     ],
     "prompt_number": 9
    },
    {
     "cell_type": "code",
     "collapsed": false,
     "input": [
      "reload(Component)\n",
      "\n",
      "class TestLFSR(unittest.TestCase):\n",
      "    def setUp(self):\n",
      "        a = BitArray('0b10101')\n",
      "        a.reverse()\n",
      "        self.LFSR  = Component.LFSR(Component.DynamicSource(a, Bits('0b0')), Bits('0b101'), 2)\n",
      "        \n",
      "    def test_lfsr(self):\n",
      "        \"\"\"Test LSFR\"\"\"\n",
      "        for i in range(6):\n",
      "            self.LFSR.step(i)\n",
      "        self.assertEqual(self.LFSR.outputs, [False, False, True, False ,True, False])\n",
      "    \n",
      "TestLFSRSuite = unittest.TestLoader().loadTestsFromTestCase(TestLFSR)\n",
      "unittest.TextTestRunner(verbosity=2).run(TestLFSRSuite)\n",
      "    \n",
      "    "
     ],
     "language": "python",
     "metadata": {},
     "outputs": [
      {
       "output_type": "stream",
       "stream": "stderr",
       "text": [
        "test_lfsr (__main__.TestLFSR)\n",
        "Test LSFR ... "
       ]
      },
      {
       "output_type": "stream",
       "stream": "stderr",
       "text": [
        "FAIL\n",
        "\n",
        "======================================================================\n",
        "FAIL: test_lfsr (__main__.TestLFSR)\n",
        "Test LSFR\n",
        "----------------------------------------------------------------------\n",
        "Traceback (most recent call last):\n",
        "  File \"<ipython-input-88-c87426242d08>\", line 13, in test_lfsr\n",
        "    self.assertEqual(self.LFSR.outputs, [False, False, True, False ,True, False])\n",
        "AssertionError: Lists differ: [BitArray('0b0'), BitArray('0b... != [False, False, True, False, Tr...\n",
        "\n",
        "First differing element 0:\n",
        "0b0\n",
        "False\n",
        "\n",
        "+ [False, False, True, False, True, False]\n",
        "- [BitArray('0b0'),\n",
        "-  BitArray('0b0'),\n",
        "-  BitArray('0b0'),\n",
        "-  BitArray('0b1'),\n",
        "-  BitArray('0b0'),\n",
        "-  BitArray('0b1')]\n",
        "\n",
        "----------------------------------------------------------------------\n",
        "Ran 1 test in 0.005s\n",
        "\n",
        "FAILED (failures=1)\n"
       ]
      },
      {
       "output_type": "pyout",
       "prompt_number": 88,
       "text": [
        "<unittest.runner.TextTestResult run=1 errors=0 failures=1>"
       ]
      }
     ],
     "prompt_number": 88
    },
    {
     "cell_type": "code",
     "collapsed": false,
     "input": [
      "reload(Component)\n",
      "\n",
      "class TestSlice(unittest.TestCase):\n",
      "    def setUp(self):\n",
      "        self.slice = Component.Slice(0,1, Component.Source(Bits('0b101')))\n",
      "    \n",
      "    def test_slice(self):\n",
      "        \"\"\"Test Slice\"\"\"\n",
      "        for i in range(2):\n",
      "            self.slice.step(i)\n",
      "        self.assertEqual(self.slice.outputs, [Bits('0b1'), Bits('0b1')])\n",
      "         \n",
      "TestSliceSuite = unittest.TestLoader().loadTestsFromTestCase(TestSlice)\n",
      "unittest.TextTestRunner(verbosity=2).run(TestSliceSuite)"
     ],
     "language": "python",
     "metadata": {},
     "outputs": [
      {
       "output_type": "stream",
       "stream": "stderr",
       "text": [
        "test_slice (__main__.TestSlice)\n",
        "Test Slice ... "
       ]
      },
      {
       "output_type": "stream",
       "stream": "stderr",
       "text": [
        "ok\n",
        "\n",
        "----------------------------------------------------------------------\n",
        "Ran 1 test in 0.001s\n",
        "\n",
        "OK\n"
       ]
      },
      {
       "output_type": "pyout",
       "prompt_number": 86,
       "text": [
        "<unittest.runner.TextTestResult run=1 errors=0 failures=0>"
       ]
      }
     ],
     "prompt_number": 86
    },
    {
     "cell_type": "code",
     "collapsed": false,
     "input": [
      "reload(Component)\n",
      "\n",
      "class TestDynamicSource(unittest.TestCase):\n",
      "    def setUp(self):\n",
      "        self.dsource = Component.DynamicSource(Bits('0b100'), Bits('0b0'))\n",
      "    \n",
      "    def test_dsource(self):\n",
      "        \"\"\"Test Dynamic Source\"\"\"\n",
      "        for i in range(5):\n",
      "            self.dsource.step(i)\n",
      "        \n",
      "        self.assertEqual(self.dsource.outputs, [Bits('0b0'), Bits('0b0'), Bits('0b1'), Bits('0b0'), Bits('0b0')])\n",
      "        \n",
      "TestDSourceSuite = unittest.TestLoader().loadTestsFromTestCase(TestDynamicSource)\n",
      "unittest.TextTestRunner(verbosity=2).run(TestDSourceSuite)"
     ],
     "language": "python",
     "metadata": {},
     "outputs": [
      {
       "output_type": "stream",
       "stream": "stderr",
       "text": [
        "test_dsource (__main__.TestDynamicSource)\n",
        "Test Dynamic Source ... "
       ]
      },
      {
       "output_type": "stream",
       "stream": "stderr",
       "text": [
        "FAIL\n",
        "\n",
        "======================================================================\n",
        "FAIL: test_dsource (__main__.TestDynamicSource)\n",
        "Test Dynamic Source\n",
        "----------------------------------------------------------------------\n",
        "Traceback (most recent call last):\n",
        "  File \"<ipython-input-83-4f7b654f16f7>\", line 12, in test_dsource\n",
        "    self.assertEqual(self.dsource.outputs, [Bits('0b0'), Bits('0b0'), Bits('0b1'), Bits('0b0'), Bits('0b0')])\n",
        "AssertionError: Lists differ: [Bits('0b1'), Bits('0b0'), Bit... != [Bits('0b0'), Bits('0b0'), Bit...\n",
        "\n",
        "First differing element 0:\n",
        "0b1\n",
        "0b0\n",
        "\n",
        "- [Bits('0b1'), Bits('0b0'), Bits('0b0'), Bits('0b0'), Bits('0b0')]\n",
        "+ [Bits('0b0'), Bits('0b0'), Bits('0b1'), Bits('0b0'), Bits('0b0')]\n",
        "\n",
        "----------------------------------------------------------------------\n",
        "Ran 1 test in 0.003s\n",
        "\n",
        "FAILED (failures=1)\n"
       ]
      },
      {
       "output_type": "pyout",
       "prompt_number": 83,
       "text": [
        "<unittest.runner.TextTestResult run=1 errors=0 failures=1>"
       ]
      }
     ],
     "prompt_number": 83
    },
    {
     "cell_type": "code",
     "collapsed": false,
     "input": [
      "LFSR1_mask = Bits(uint = 139297, length = 25)        #Bits('0b0000000100010000000100001')                L1\n",
      "LFSR2_mask = Bits(uint = 557185, length = 31)        #Bits('0b0000000000010001000000010000001')          L2\n",
      "LFSR3_mask = Bits(uint = 536871457, length = 33)     #Bits('0b000100000000000000000001000100001')        L3\n",
      "LFSR4_mask = Bits(uint = 34359740425, length = 39)   #Bits('0b000100000000000000000000000100000001001')  L4\n",
      "\n",
      "print LFSR1_mask\n",
      "print LFSR2_mask\n",
      "print LFSR3_mask\n",
      "print LFSR4_mask"
     ],
     "language": "python",
     "metadata": {},
     "outputs": [
      {
       "output_type": "stream",
       "stream": "stdout",
       "text": [
        "0b0000000100010000000100001\n",
        "0b0000000000010001000000010000001\n",
        "0x10000110, 0b1\n",
        "0x100000101, 0b001\n"
       ]
      }
     ],
     "prompt_number": 87
    },
    {
     "cell_type": "code",
     "collapsed": false,
     "input": [],
     "language": "python",
     "metadata": {},
     "outputs": [
      {
       "output_type": "stream",
       "stream": "stdout",
       "text": [
        "25\n"
       ]
      }
     ],
     "prompt_number": 18
    },
    {
     "cell_type": "code",
     "collapsed": false,
     "input": [],
     "language": "python",
     "metadata": {},
     "outputs": [
      {
       "output_type": "stream",
       "stream": "stdout",
       "text": [
        "0\n",
        "1\n"
       ]
      }
     ],
     "prompt_number": 23
    },
    {
     "cell_type": "code",
     "collapsed": false,
     "input": [],
     "language": "python",
     "metadata": {},
     "outputs": []
    }
   ],
   "metadata": {}
  }
 ]
}