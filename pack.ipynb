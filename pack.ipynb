{
 "metadata": {
  "name": "pack"
 },
 "nbformat": 3,
 "nbformat_minor": 0,
 "worksheets": [
  {
   "cells": [
    {
     "cell_type": "code",
     "collapsed": false,
     "input": [
      "import struct\n",
      "import array\n",
      "import os\n",
      "\n",
      "def pack_neg(ID):\n",
      " type = 0\n",
      " id = ID\n",
      " data = struct.pack('>II', type, id)\n",
      " return data\n",
      "\n",
      "def unpack_neg(data):\n",
      " type,id = struct.unpack('>II', data[:8])\n",
      " return (type,id)\n",
      "\n",
      "def pack_init(clock, RAND, link_key):\n",
      "  #clock - 26 bits, but lets send 32\n",
      "  #RAND - 128 bit byte array\n",
      "  #link key - 128 bit\n",
      "  if len(RAND) != 16: \n",
      "    raise Exception(\"rand key not 128 bit\") \n",
      "  if len(link_key) != 16:\n",
      "    raise Exception(\"link key not 128 bit\")\n",
      "\n",
      "  type = 1\n",
      "  data = struct.pack('>II', type, clock)\n",
      "  r = array.array('B', RAND).tostring()\n",
      "  l = array.array('B', link_key).tostring()\n",
      "  return data + r + l\n",
      "\n",
      "def unpack_init(data):\n",
      "  d = struct.unpack('>II' + ('B' * 16) + ('B' * 16), data[:40])\n",
      "  type = d[0]\n",
      "  clock = d[1]\n",
      "  RAND = bytearray(d[2:18])\n",
      "  link_key = bytearray(d[18:34])\n",
      "  return (clock, RAND, link_key)\n",
      "\n",
      "\n",
      "def pack_data(clock, data):\n",
      "  type = 2  \n",
      "  length = len(data)\n",
      "  header = struct.pack('>III', type, clock, length)\n",
      "  payload = array.array('B', data).tostring()\n",
      "  d = header + payload\n",
      "  return d\n",
      "\n",
      "def unpack_data_length(data):\n",
      "    type,clock,length = struct.unpack('>III', data[:12])\n",
      "    return length\n",
      "\n",
      "def unpack_data(data):\n",
      "  type, clock, length = struct.unpack('>III', data[:12])  \n",
      "  d = struct.unpack('>' + ('B' * length), data[12:12+length])\n",
      "  d = bytearray(d)\n",
      "  return (type,clock,length,d)"
     ],
     "language": "python",
     "metadata": {},
     "outputs": []
    }
   ],
   "metadata": {}
  }
 ]
}