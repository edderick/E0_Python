{
 "metadata": {
  "name": "Client"
 },
 "nbformat": 3,
 "nbformat_minor": 0,
 "worksheets": [
  {
   "cells": [
    {
     "cell_type": "markdown",
     "metadata": {},
     "source": [
      "#Test Posting Data to site\n"
     ]
    },
    {
     "cell_type": "code",
     "collapsed": false,
     "input": [
      "import urllib2\n",
      "import urllib\n",
      "\n",
      "def postTo(domain,port,slug, vals, method, role):\n",
      "    \n",
      "    protocol = 'http'\n",
      "    url = protocol + '://' + domain + ':' + port + '/' + slug\n",
      "    rolequery = 'role=' + role\n",
      "    \n",
      "    data = urllib.urlencode(vals)\n",
      "    \n",
      "    \n",
      "    if(method == 'get'):\n",
      "        print 'method: get'\n",
      "        req = urllib2.Request(url + '?' + rolequery + '&' +  data)\n",
      "    elif(method == 'post'):\n",
      "        print 'method: post'\n",
      "        req = urllib2.Request(url + '?' + rolequery, data)\n",
      "    else:\n",
      "        print 'bad method'\n",
      "    response = urllib2.urlopen(req)\n",
      "    \n",
      "    print url + '?' + rolequery + '&' + data\n",
      "    print response.read()\n",
      "        \n",
      "\n",
      "vals  = {\n",
      " 'content' : 'some',\n",
      "'msg' : 'rand'}\n",
      "\n",
      "domain = 'localhost'\n",
      "port = '8000'\n",
      "slug = 'keyStream'\n",
      "\n",
      "postTo(domain, port, slug, vals, 'post', 'slave')\n",
      "\n"
     ],
     "language": "python",
     "metadata": {},
     "outputs": [
      {
       "output_type": "stream",
       "stream": "stdout",
       "text": [
        "method: post\n",
        "http://localhost:8000/keyStream?role=slave&content=some&msg=rand\n",
        "1\n"
       ]
      }
     ],
     "prompt_number": 45
    },
    {
     "cell_type": "code",
     "collapsed": false,
     "input": [],
     "language": "python",
     "metadata": {},
     "outputs": [],
     "prompt_number": 43
    },
    {
     "cell_type": "code",
     "collapsed": false,
     "input": [],
     "language": "python",
     "metadata": {},
     "outputs": [],
     "prompt_number": 33
    },
    {
     "cell_type": "code",
     "collapsed": false,
     "input": [],
     "language": "python",
     "metadata": {},
     "outputs": []
    }
   ],
   "metadata": {}
  }
 ]
}