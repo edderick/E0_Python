{
 "metadata": {
  "name": "comms"
 },
 "nbformat": 3,
 "nbformat_minor": 0,
 "worksheets": [
  {
   "cells": [
    {
     "cell_type": "code",
     "collapsed": false,
     "input": [
      "import socket\n",
      "from pack import *\n",
      "  \n",
      "\n",
      "class Connection:\n",
      "  \"\"\" \n",
      "  Handles communication between the two bluetooth fakes.\n",
      "  \"\"\"\n",
      "  def __init__(self,stream):\n",
      "    self.stream = stream\n",
      "  def __send(self, binary_data):\n",
      "    self.stream.write(binary_data)\n",
      "    self.stream.flush()\n",
      "  def __recv(self, minlength):\n",
      "      return self.stream.read(minlength)\n",
      "  def send_neg(self, ID):\n",
      "    self.__send(pack_neg(ID))\n",
      "  def recv_neg(self):\n",
      "   return unpack_neg(self.__recv(8))\n",
      "  def send_init(self, clock, rand, link_key):\n",
      "    self.__send(pack_init(clock,rand,link_key))\n",
      "  def recv_init(self):\n",
      "    return unpack_init(self.__recv(40))\n",
      "  def send_data(self, clock, data):\n",
      "    self.__send(pack_data(clock,data))\n",
      "  def recv_data(self):\n",
      "      data = self.__recv(12)\n",
      "      l = unpack_data_length(data)\n",
      "      extra_data = self.__recv(l)\n",
      "      return unpack_data(data+extra_data)\n",
      "\n",
      "\n",
      "\n",
      "\n",
      "\n",
      "def listen(port):\n",
      "  \"\"\"\n",
      "  Listen on port for incoming tcp connection.\n",
      "  Accept first connection attempt and return socket handle.\n",
      "  \"\"\"\n",
      "  s = socket.socket(socket.AF_INET, socket.SOCK_STREAM)\n",
      "  s.bind(('', port))\n",
      "  s.listen(0)\n",
      "  conn, addr = s.accept()\n",
      "  print('accepted connection from %s', addr)\n",
      "  return conn\n",
      "\n",
      "def connect(addr, port):\n",
      "  \"\"\"\n",
      "  Creates tcp connection to addr (ip/hostname) on port.\n",
      "  Returns handle to connected socket.\n",
      "  Throws error on failure.\n",
      "  \"\"\"\n",
      "  conn = socket.create_connection((addr, port))\n",
      "  return conn"
     ],
     "language": "python",
     "metadata": {},
     "outputs": []
    }
   ],
   "metadata": {}
  }
 ]
}