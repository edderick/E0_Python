{
 "metadata": {
  "name": "LFSR"
 },
 "nbformat": 3,
 "nbformat_minor": 0,
 "worksheets": [
  {
   "cells": [
    {
     "cell_type": "code",
     "collapsed": false,
     "input": [
      "# LFSR function\n",
      "\n",
      "from bitstring import *\n",
      "\n",
      "def LFSR(shift_register, tap_mask):\n",
      "    while True:\n",
      "        taps = tap_mask.findall([1])\n",
      "        list_of_taps = list(taps)\n",
      "        xor_inputs = [shift_register[tap] for tap in list_of_taps]\n",
      "        def xor_operation(a,b): return a^b\n",
      "        xor_result_bit = reduce(xor_operation, xor_inputs)\n",
      "                \n",
      "        xor_result_shifted = Bits(uint = xor_result_bit, length = shift_register.len)\n",
      "        \n",
      "        shift_register_update = (shift_register >> 1) | (xor_result_shifted << (shift_register.len - 1))\n",
      "        shift_register = shift_register_update\n",
      "        yield int(xor_result_bit), shift_register\n",
      "\n",
      "'''\n",
      "def LFSR_func(shift_register, tap_mask):\n",
      "    taps = tap_mask.findall([1])\n",
      "    list_of_taps = list(taps)\n",
      "    xor_inputs = [shift_register[tap] for tap in list_of_taps]\n",
      "    def xor_operation(a,b): return a^b\n",
      "    xor_result_bit = reduce(xor_operation, xor_inputs)\n",
      "                \n",
      "    xor_result_shifted = Bits(uint = xor_result_bit, length = shift_register.len)\n",
      "        \n",
      "    shift_register_update = (shift_register >> 1) | (xor_result_shifted << (shift_register.len - 1))\n",
      "    shift_register = shift_register_update\n",
      "    return int(xor_result_bit), shift_register\n",
      "'''\n",
      "LFSR1_mask = Bits(uint = 139297, length = 25)        #Bits('0b0000000100010000000100001')                L1\n",
      "LFSR2_mask = Bits(uint = 557185, length = 31)        #Bits('0b0000000000010001000000010000001')          L2\n",
      "LFSR3_mask = Bits(uint = 536871457, length = 33)     #Bits('0b000100000000000000000001000100001')        L3\n",
      "LFSR4_mask = Bits(uint = 34359740425, length = 39)   #Bits('0b000100000000000000000000000100000001001')  L4\n",
      "count = 0\n",
      "seed = Bits(uint = 25, length = 33)      #Bits('0b0000000000000000000011001')\n",
      "#mask = Bits(uint = 139297, length = 25)  #Bits('0b0000000100010000000100001') L1\n",
      "#seed = Bits('0b01101000010')\n",
      "#seed = Bits('0b0000000000000000000011001')\n",
      "mask = LFSR3_mask\n",
      "# test data used to verify LFSR functionality <http://www.cs.princeton.edu/courses/archive/fall11/cos126/assignments/lfsr.html>\n",
      "#seed = Bits('0b01000010110')\n",
      "#mask = Bits('0b00000000101')\n",
      "\n",
      "for xor, sr in LFSR(seed, mask):\n",
      "    if (count < 25):\n",
      "        print xor, sr.bin\n",
      "        count += 1\n",
      "    else:\n",
      "        count = 0\n",
      "        break\n",
      "\n",
      "#xor, sr = LFSR_func(seed, mask)\n",
      "#for i in range(20)"
     ],
     "language": "python",
     "metadata": {},
     "outputs": []
    }
   ],
   "metadata": {}
  }
 ]
}